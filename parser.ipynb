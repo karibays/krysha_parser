{
 "cells": [
  {
   "cell_type": "code",
   "execution_count": 1,
   "id": "eb38c46e",
   "metadata": {},
   "outputs": [],
   "source": [
    "import pandas as pd\n",
    "import requests\n",
    "from bs4 import BeautifulSoup\n",
    "import time"
   ]
  },
  {
   "cell_type": "code",
   "execution_count": 2,
   "id": "10759f1f",
   "metadata": {},
   "outputs": [],
   "source": [
    "HEADERS = {\n",
    "    \"user-agent\": \"Mozilla/5.0 (Linux; Android 6.0; Nexus 5 Build/MRA58N) AppleWebKit/537.36 (KHTML, like Gecko) Chrome/93.0.4577.82 Mobile Safari/537.36\",\n",
    "    \"accept\": \"*/*\"}"
   ]
  },
  {
   "cell_type": "code",
   "execution_count": 3,
   "id": "bea62a94",
   "metadata": {},
   "outputs": [],
   "source": [
    "allProductLink = []\n",
    "df = pd.DataFrame()"
   ]
  },
  {
   "cell_type": "code",
   "execution_count": 4,
   "id": "a0d6fff8",
   "metadata": {},
   "outputs": [
    {
     "name": "stdout",
     "output_type": "stream",
     "text": [
      "Page 1\n"
     ]
    }
   ],
   "source": [
    "for i in range(1,2):\n",
    "    if i % 2 == 0:\n",
    "        time.sleep(5)\n",
    "        \n",
    "    try: \n",
    "        URL = \"https://krisha.kz/prodazha/prochej-nedvizhimosti/?page=\" + str(i)\n",
    "        r = requests.get(URL, headers=HEADERS)\n",
    "        soup = BeautifulSoup(r.text, 'html.parser')\n",
    "\n",
    "        allLinks = [link.get('href') for link in soup.find_all(\"a\")]\n",
    "\n",
    "        for link in allLinks:\n",
    "            if str(link).startswith('/a/show'):\n",
    "                allProductLink.append(link)\n",
    "        print(f\"Page {i}\")\n",
    "        \n",
    "    except Exception as e:\n",
    "        print(\"Page number is out of range\")"
   ]
  },
  {
   "cell_type": "code",
   "execution_count": 5,
   "id": "496d70fe",
   "metadata": {},
   "outputs": [],
   "source": [
    "allProductLink = list(set(allProductLink))"
   ]
  },
  {
   "cell_type": "code",
   "execution_count": 6,
   "id": "42d6863c",
   "metadata": {},
   "outputs": [
    {
     "data": {
      "text/plain": [
       "22"
      ]
     },
     "execution_count": 6,
     "metadata": {},
     "output_type": "execute_result"
    }
   ],
   "source": [
    "len(allProductLink)"
   ]
  },
  {
   "cell_type": "code",
   "execution_count": null,
   "id": "cd72a6c8",
   "metadata": {},
   "outputs": [
    {
     "name": "stderr",
     "output_type": "stream",
     "text": [
      "C:\\Users\\karib\\AppData\\Local\\Temp\\ipykernel_7784\\3861473646.py:24: FutureWarning: The frame.append method is deprecated and will be removed from pandas in a future version. Use pandas.concat instead.\n",
      "  df = df.append(item_info, ignore_index=True)\n"
     ]
    },
    {
     "name": "stdout",
     "output_type": "stream",
     "text": [
      "Link No 1\n"
     ]
    },
    {
     "name": "stderr",
     "output_type": "stream",
     "text": [
      "C:\\Users\\karib\\AppData\\Local\\Temp\\ipykernel_7784\\3861473646.py:24: FutureWarning: The frame.append method is deprecated and will be removed from pandas in a future version. Use pandas.concat instead.\n",
      "  df = df.append(item_info, ignore_index=True)\n"
     ]
    },
    {
     "name": "stdout",
     "output_type": "stream",
     "text": [
      "Link No 2\n"
     ]
    }
   ],
   "source": [
    "counter = 0\n",
    "for i in allProductLink:\n",
    "    \n",
    "    if counter % 5 == 0:\n",
    "        time.sleep(5)\n",
    "    \n",
    "    try:\n",
    "        URL = \"https://krisha.kz\" + i\n",
    "        r = requests.get(URL, headers=HEADERS)\n",
    "        soup = BeautifulSoup(r.text, 'html.parser')\n",
    "\n",
    "        labels = soup.find_all(\"span\", class_=\"attributes__item-label\")\n",
    "        values = soup.find_all(\"span\", class_=\"attributes__item-value\")\n",
    "        price = soup.find(\"p\", class_=\"service-info__price\")\n",
    "        region = soup.find(\"p\", class_=\"a-page-address__region\")\n",
    "        address = soup.find(\"p\", class_=\"a-page-address__location\")\n",
    "\n",
    "        item_info = {i.text.strip(): j.text.strip()  for i,j in zip(labels, values)}\n",
    "\n",
    "        item_info['price'] = price.text.strip().replace(\"\\xa0\", \"\")[:-1]\n",
    "        item_info['address'] = address.text\n",
    "        item_info['region'] = region.text\n",
    "\n",
    "        df = df.append(item_info, ignore_index=True)\n",
    "\n",
    "        counter = counter + 1\n",
    "        print(f\"Link No {counter}\")\n",
    "    except Exception as e:\n",
    "        print(\"Page doesn't exist\")"
   ]
  },
  {
   "cell_type": "code",
   "execution_count": null,
   "id": "d494f490",
   "metadata": {},
   "outputs": [],
   "source": [
    "df.info()"
   ]
  },
  {
   "cell_type": "code",
   "execution_count": null,
   "id": "0d1198c2",
   "metadata": {},
   "outputs": [],
   "source": [
    "df"
   ]
  },
  {
   "cell_type": "code",
   "execution_count": null,
   "id": "0a6f45d0",
   "metadata": {},
   "outputs": [],
   "source": [
    "df.to_excel('dataset.xlsx', encoding='utf-8')"
   ]
  },
  {
   "cell_type": "code",
   "execution_count": null,
   "id": "9064a77d",
   "metadata": {},
   "outputs": [],
   "source": [
    "pd.read_excel('dataset.xlsx')"
   ]
  }
 ],
 "metadata": {
  "kernelspec": {
   "display_name": "Python 3 (ipykernel)",
   "language": "python",
   "name": "python3"
  },
  "language_info": {
   "codemirror_mode": {
    "name": "ipython",
    "version": 3
   },
   "file_extension": ".py",
   "mimetype": "text/x-python",
   "name": "python",
   "nbconvert_exporter": "python",
   "pygments_lexer": "ipython3",
   "version": "3.8.9"
  }
 },
 "nbformat": 4,
 "nbformat_minor": 5
}
